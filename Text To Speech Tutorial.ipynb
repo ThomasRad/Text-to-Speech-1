{
 "cells": [
  {
   "cell_type": "markdown",
   "metadata": {},
   "source": [
    "# Text To Speech"
   ]
  },
  {
   "cell_type": "code",
   "execution_count": 1,
   "metadata": {},
   "outputs": [],
   "source": [
    "# Import packages. \n",
    "\n",
    "import playsound\n",
    "from gtts import gTTS"
   ]
  },
  {
   "cell_type": "code",
   "execution_count": 2,
   "metadata": {},
   "outputs": [],
   "source": [
    "# Text to speech. \n",
    "\n",
    "# Function that takes in text saves the audio file and then plays it for us. \n",
    "\n",
    "def speak(text):\n",
    "    tts = gTTS(text = text, lang = 'en')\n",
    "    filename = 'voice.mp3'\n",
    "    tts.save(filename)\n",
    "    playsound.playsound(filename)    "
   ]
  },
  {
   "cell_type": "code",
   "execution_count": 3,
   "metadata": {},
   "outputs": [],
   "source": [
    "# Pass it some pharse to say to us. \n",
    "\n",
    "speak(\"Hey how are you\")"
   ]
  }
 ],
 "metadata": {
  "kernelspec": {
   "display_name": "Python 3",
   "language": "python",
   "name": "python3"
  },
  "language_info": {
   "codemirror_mode": {
    "name": "ipython",
    "version": 3
   },
   "file_extension": ".py",
   "mimetype": "text/x-python",
   "name": "python",
   "nbconvert_exporter": "python",
   "pygments_lexer": "ipython3",
   "version": "3.7.6"
  }
 },
 "nbformat": 4,
 "nbformat_minor": 4
}
